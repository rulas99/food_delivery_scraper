{
 "cells": [
  {
   "cell_type": "code",
   "execution_count": 1,
   "metadata": {},
   "outputs": [],
   "source": [
    "from scraper import WebScraper\n",
    "from time import sleep"
   ]
  },
  {
   "cell_type": "code",
   "execution_count": 2,
   "metadata": {},
   "outputs": [],
   "source": [
    "source_cates = dict(\n",
    "    populares_cerca = \"https://www.rappi.com.mx/\"\n",
    "    )\n",
    "\n",
    "source_cate = \"populares_cerca\""
   ]
  },
  {
   "cell_type": "code",
   "execution_count": 3,
   "metadata": {},
   "outputs": [],
   "source": [
    "current_address = \"Laurel 43 santa maria la ribera\" "
   ]
  },
  {
   "cell_type": "code",
   "execution_count": 4,
   "metadata": {},
   "outputs": [
    {
     "name": "stderr",
     "output_type": "stream",
     "text": [
      "2024-10-31 12:16:41,724 - INFO - Navegando a la URL: https://www.rappi.com.mx/\n"
     ]
    }
   ],
   "source": [
    "scraper = WebScraper()\n",
    "\n",
    "scraper.navigate_to_url(source_cates[\"populares_cerca\"])"
   ]
  },
  {
   "cell_type": "code",
   "execution_count": 5,
   "metadata": {},
   "outputs": [
    {
     "name": "stderr",
     "output_type": "stream",
     "text": [
      "2024-10-31 12:16:45,013 - INFO - Elemento en //*[@id=\"rappi-web-toolbar\"]/div[2]/div/div/div/span clickeado correctamente.\n"
     ]
    },
    {
     "data": {
      "text/plain": [
       "'Ingresar mi ubicación'"
      ]
     },
     "execution_count": 5,
     "metadata": {},
     "output_type": "execute_result"
    }
   ],
   "source": [
    "scraper.click_element('//*[@id=\"rappi-web-toolbar\"]/div[2]/div/div/div/span')"
   ]
  },
  {
   "cell_type": "code",
   "execution_count": null,
   "metadata": {},
   "outputs": [
    {
     "name": "stderr",
     "output_type": "stream",
     "text": [
      "2024-10-31 12:16:48,796 - INFO - Elemento en //div[starts-with(@id, 'chakra-modal--body-')]//ul/li[1]/button clickeado correctamente.\n",
      "2024-10-31 12:16:48,803 - INFO - Dirección ingresada correctamente.\n"
     ]
    }
   ],
   "source": [
    "final_address = scraper.enter_address(current_address,\n",
    "                                      input_xpath=\"//div[starts-with(@id, 'chakra-modal--body-')]//input\",\n",
    "                                      selection_xpath=\"//div[starts-with(@id, 'chakra-modal--body-')]//ul/li[1]/button\"\n",
    "                                      )"
   ]
  },
  {
   "cell_type": "code",
   "execution_count": null,
   "metadata": {},
   "outputs": [],
   "source": [
    "# Confirm address\n",
    "scraper.click_element('//*[@id=\"confirm-address-button\"]')\n",
    "\n",
    "sleep(2)\n",
    "# Save address\n",
    "scraper.click_element('//*[@id=\"save-address-button\"]')"
   ]
  },
  {
   "cell_type": "code",
   "execution_count": null,
   "metadata": {},
   "outputs": [
    {
     "name": "stderr",
     "output_type": "stream",
     "text": [
      "2024-10-31 12:12:44,766 - WARNING - No se encontró enlace en una tarjeta.\n",
      "2024-10-31 12:12:47,117 - WARNING - No se encontró enlace en una tarjeta.\n",
      "2024-10-31 12:12:47,117 - INFO - Scraping completado. Total de tarjetas: 20\n"
     ]
    }
   ],
   "source": [
    "cards_data = scraper.scrape_cards(\n",
    "    cards_xpath='//*[@id=\"__next\"]/div[3]/div[2]/div/div[2]/div',\n",
    "    aditional_info={\"cate_source\": source_cate,\n",
    "                    \"current_address\": current_address,\n",
    "                    \"final_address\": final_address,\n",
    "                    \"platform\": 'rappi'\n",
    "                    }\n",
    ")"
   ]
  },
  {
   "cell_type": "code",
   "execution_count": null,
   "metadata": {},
   "outputs": [
    {
     "data": {
      "text/plain": [
       "[{'text': 'House Roll\\n45 min\\n·\\n$ 16.90',\n",
       "  'href': 'https://www.rappi.com.mx/restaurantes/1923719082-house-roll',\n",
       "  'cate_source': 'populares_cerca',\n",
       "  'current_address': 'Laurel 43 santa maria la ribera',\n",
       "  'final_address': 'Calle Laurel 43, Santa María La Ribera, 06400 Cuauhtémoc\\nCDMX, México',\n",
       "  'platform': 'rappi'},\n",
       " {'text': 'Buffalo Wild Wings\\n50 min\\n·\\n$ 32.90',\n",
       "  'href': 'https://www.rappi.com.mx/restaurantes/1930175223-buffalo-wild-wings',\n",
       "  'cate_source': 'populares_cerca',\n",
       "  'current_address': 'Laurel 43 santa maria la ribera',\n",
       "  'final_address': 'Calle Laurel 43, Santa María La Ribera, 06400 Cuauhtémoc\\nCDMX, México',\n",
       "  'platform': 'rappi'},\n",
       " {'text': 'Pollo Feliz\\n25 min\\n·\\n$ 18.90',\n",
       "  'href': 'https://www.rappi.com.mx/restaurantes/1923225848-pollo-feliz',\n",
       "  'cate_source': 'populares_cerca',\n",
       "  'current_address': 'Laurel 43 santa maria la ribera',\n",
       "  'final_address': 'Calle Laurel 43, Santa María La Ribera, 06400 Cuauhtémoc\\nCDMX, México',\n",
       "  'platform': 'rappi'},\n",
       " {'text': 'Frutos Prohibidos\\n50 min\\n·\\n$ 16.90',\n",
       "  'href': 'https://www.rappi.com.mx/restaurantes/1306710140-frutos-prohibidos',\n",
       "  'cate_source': 'populares_cerca',\n",
       "  'current_address': 'Laurel 43 santa maria la ribera',\n",
       "  'final_address': 'Calle Laurel 43, Santa María La Ribera, 06400 Cuauhtémoc\\nCDMX, México',\n",
       "  'platform': 'rappi'},\n",
       " {'text': 'Bellopuerto\\n55 min\\n·\\n$ 48.90',\n",
       "  'href': 'https://www.rappi.com.mx/restaurantes/10000079-bellopuerto',\n",
       "  'cate_source': 'populares_cerca',\n",
       "  'current_address': 'Laurel 43 santa maria la ribera',\n",
       "  'final_address': 'Calle Laurel 43, Santa María La Ribera, 06400 Cuauhtémoc\\nCDMX, México',\n",
       "  'platform': 'rappi'},\n",
       " {'text': \"Benedetti'S Pizza\\n30 min\\n·\\n$ 20.90\",\n",
       "  'href': 'https://www.rappi.com.mx/restaurantes/1306705478-benedettis-pizza',\n",
       "  'cate_source': 'populares_cerca',\n",
       "  'current_address': 'Laurel 43 santa maria la ribera',\n",
       "  'final_address': 'Calle Laurel 43, Santa María La Ribera, 06400 Cuauhtémoc\\nCDMX, México',\n",
       "  'platform': 'rappi'},\n",
       " {'text': 'Taquería Gabriel\\n30 min\\n·\\n$ 18.90',\n",
       "  'href': 'https://www.rappi.com.mx/restaurantes/1923221160-taqueria-gabriel',\n",
       "  'cate_source': 'populares_cerca',\n",
       "  'current_address': 'Laurel 43 santa maria la ribera',\n",
       "  'final_address': 'Calle Laurel 43, Santa María La Ribera, 06400 Cuauhtémoc\\nCDMX, México',\n",
       "  'platform': 'rappi'},\n",
       " {'text': 'Cupcakesland\\n35 min\\n·\\n$ 26.90',\n",
       "  'href': 'https://www.rappi.com.mx/restaurantes/10000315-cupcakesland',\n",
       "  'cate_source': 'populares_cerca',\n",
       "  'current_address': 'Laurel 43 santa maria la ribera',\n",
       "  'final_address': 'Calle Laurel 43, Santa María La Ribera, 06400 Cuauhtémoc\\nCDMX, México',\n",
       "  'platform': 'rappi'},\n",
       " {'text': 'Sliders\\n55 min\\n·\\n$ 38.90',\n",
       "  'href': 'https://www.rappi.com.mx/restaurantes/1306717702-sliders',\n",
       "  'cate_source': 'populares_cerca',\n",
       "  'current_address': 'Laurel 43 santa maria la ribera',\n",
       "  'final_address': 'Calle Laurel 43, Santa María La Ribera, 06400 Cuauhtémoc\\nCDMX, México',\n",
       "  'platform': 'rappi'},\n",
       " {'text': 'Papa Guapa\\n40 min\\n·\\n$ 28.90',\n",
       "  'href': 'https://www.rappi.com.mx/restaurantes/10000354-papa-guapa',\n",
       "  'cate_source': 'populares_cerca',\n",
       "  'current_address': 'Laurel 43 santa maria la ribera',\n",
       "  'final_address': 'Calle Laurel 43, Santa María La Ribera, 06400 Cuauhtémoc\\nCDMX, México',\n",
       "  'platform': 'rappi'},\n",
       " {'text': 'La Raclette\\n30 min\\n·\\n$ 10.90',\n",
       "  'href': 'https://www.rappi.com.mx/restaurantes/10000947-la-raclette',\n",
       "  'cate_source': 'populares_cerca',\n",
       "  'current_address': 'Laurel 43 santa maria la ribera',\n",
       "  'final_address': 'Calle Laurel 43, Santa María La Ribera, 06400 Cuauhtémoc\\nCDMX, México',\n",
       "  'platform': 'rappi'},\n",
       " {'text': 'Koku\\n40 min\\n·\\n$ 24.90',\n",
       "  'href': 'https://www.rappi.com.mx/restaurantes/990006459-koku',\n",
       "  'cate_source': 'populares_cerca',\n",
       "  'current_address': 'Laurel 43 santa maria la ribera',\n",
       "  'final_address': 'Calle Laurel 43, Santa María La Ribera, 06400 Cuauhtémoc\\nCDMX, México',\n",
       "  'platform': 'rappi'},\n",
       " {'text': 'La Lechuguería\\n35 min\\n·\\n$ 24.90',\n",
       "  'href': 'https://www.rappi.com.mx/restaurantes/10001041-la-lechugueria',\n",
       "  'cate_source': 'populares_cerca',\n",
       "  'current_address': 'Laurel 43 santa maria la ribera',\n",
       "  'final_address': 'Calle Laurel 43, Santa María La Ribera, 06400 Cuauhtémoc\\nCDMX, México',\n",
       "  'platform': 'rappi'},\n",
       " {'text': 'Yumi Yumi\\n50 min\\n·\\n$ 36.90',\n",
       "  'href': 'https://www.rappi.com.mx/restaurantes/10001053-yumi-yumi',\n",
       "  'cate_source': 'populares_cerca',\n",
       "  'current_address': 'Laurel 43 santa maria la ribera',\n",
       "  'final_address': 'Calle Laurel 43, Santa María La Ribera, 06400 Cuauhtémoc\\nCDMX, México',\n",
       "  'platform': 'rappi'},\n",
       " {'text': 'Balboa Pizzería\\n30 min\\n·\\n$ 16.90',\n",
       "  'href': 'https://www.rappi.com.mx/restaurantes/10001125-balboa-pizzeria',\n",
       "  'cate_source': 'populares_cerca',\n",
       "  'current_address': 'Laurel 43 santa maria la ribera',\n",
       "  'final_address': 'Calle Laurel 43, Santa María La Ribera, 06400 Cuauhtémoc\\nCDMX, México',\n",
       "  'platform': 'rappi'},\n",
       " {'text': 'Hot Dog Ramírez\\n25 min\\n·\\n$ 20.90',\n",
       "  'href': 'https://www.rappi.com.mx/restaurantes/10001201-hot-dog-ramirez',\n",
       "  'cate_source': 'populares_cerca',\n",
       "  'current_address': 'Laurel 43 santa maria la ribera',\n",
       "  'final_address': 'Calle Laurel 43, Santa María La Ribera, 06400 Cuauhtémoc\\nCDMX, México',\n",
       "  'platform': 'rappi'},\n",
       " {'text': 'House of Wok\\n35 min\\n·\\n$ 8.90',\n",
       "  'href': 'https://www.rappi.com.mx/restaurantes/10001204-house-of-wok',\n",
       "  'cate_source': 'populares_cerca',\n",
       "  'current_address': 'Laurel 43 santa maria la ribera',\n",
       "  'final_address': 'Calle Laurel 43, Santa María La Ribera, 06400 Cuauhtémoc\\nCDMX, México',\n",
       "  'platform': 'rappi'},\n",
       " {'text': 'Los Panchos Tolstoi\\n35 min\\n·\\n$ 18.90',\n",
       "  'href': 'https://www.rappi.com.mx/restaurantes/10001224-los-panchos-tolstoi',\n",
       "  'cate_source': 'populares_cerca',\n",
       "  'current_address': 'Laurel 43 santa maria la ribera',\n",
       "  'final_address': 'Calle Laurel 43, Santa María La Ribera, 06400 Cuauhtémoc\\nCDMX, México',\n",
       "  'platform': 'rappi'},\n",
       " {'text': 'Pane Envía\\n35 min\\n·\\n$ 24.90',\n",
       "  'href': 'https://www.rappi.com.mx/restaurantes/10001237-pane-envia',\n",
       "  'cate_source': 'populares_cerca',\n",
       "  'current_address': 'Laurel 43 santa maria la ribera',\n",
       "  'final_address': 'Calle Laurel 43, Santa María La Ribera, 06400 Cuauhtémoc\\nCDMX, México',\n",
       "  'platform': 'rappi'},\n",
       " {'text': 'Jack´s Butcher\\n50 min\\n·\\n$ 38.90',\n",
       "  'href': 'https://www.rappi.com.mx/restaurantes/300000193-jacks-butcher',\n",
       "  'cate_source': 'populares_cerca',\n",
       "  'current_address': 'Laurel 43 santa maria la ribera',\n",
       "  'final_address': 'Calle Laurel 43, Santa María La Ribera, 06400 Cuauhtémoc\\nCDMX, México',\n",
       "  'platform': 'rappi'}]"
      ]
     },
     "execution_count": 19,
     "metadata": {},
     "output_type": "execute_result"
    }
   ],
   "source": [
    "cards_data"
   ]
  },
  {
   "cell_type": "code",
   "execution_count": 11,
   "metadata": {},
   "outputs": [],
   "source": [
    "scraper.close()"
   ]
  },
  {
   "cell_type": "code",
   "execution_count": null,
   "metadata": {},
   "outputs": [],
   "source": []
  }
 ],
 "metadata": {
  "kernelspec": {
   "display_name": ".venv",
   "language": "python",
   "name": "python3"
  },
  "language_info": {
   "codemirror_mode": {
    "name": "ipython",
    "version": 3
   },
   "file_extension": ".py",
   "mimetype": "text/x-python",
   "name": "python",
   "nbconvert_exporter": "python",
   "pygments_lexer": "ipython3",
   "version": "3.12.3"
  }
 },
 "nbformat": 4,
 "nbformat_minor": 2
}
